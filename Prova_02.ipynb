{
  "nbformat": 4,
  "nbformat_minor": 0,
  "metadata": {
    "colab": {
      "provenance": []
    },
    "kernelspec": {
      "name": "python3",
      "display_name": "Python 3"
    },
    "language_info": {
      "name": "python"
    }
  },
  "cells": [
    {
      "cell_type": "code",
      "source": [
        "import numpy as np"
      ],
      "metadata": {
        "id": "IuIhkYdQN6PR"
      },
      "execution_count": 3,
      "outputs": []
    },
    {
      "cell_type": "markdown",
      "source": [
        "Método de Eliminação de Gauss\n",
        "Quando usar:\n",
        "\n",
        "Sistemas pequenos a médios.\n",
        "\n",
        "Quando não há necessidade de preservar a matriz original.\n",
        "\n",
        "Requer que a matriz seja não singular."
      ],
      "metadata": {
        "id": "M1IrJelAOsDv"
      }
    },
    {
      "cell_type": "code",
      "source": [
        "def eliminacao_gauss(A, b):\n",
        "    \"\"\"\n",
        "    Resolve o sistema Ax = b usando Eliminação de Gauss.\n",
        "    \"\"\"\n",
        "    A = A.astype(float)\n",
        "    b = b.astype(float)\n",
        "    n = len(b)\n",
        "\n",
        "    # Etapa de eliminação\n",
        "    for k in range(n-1):\n",
        "        for i in range(k+1, n):\n",
        "            if A[k, k] == 0:\n",
        "                raise ValueError(\"Pivô zero encontrado.\")\n",
        "            m = A[i, k] / A[k, k]\n",
        "            A[i, k:] -= m * A[k, k:]\n",
        "            b[i] -= m * b[k]\n",
        "\n",
        "    # Substituição regressiva\n",
        "    x = np.zeros(n)\n",
        "    for i in range(n-1, -1, -1):\n",
        "        if A[i, i] == 0:\n",
        "            raise ValueError(\"Divisão por zero detectada.\")\n",
        "        x[i] = (b[i] - np.dot(A[i, i+1:], x[i+1:])) / A[i, i]\n",
        "    return x\n"
      ],
      "metadata": {
        "id": "yDDzO20oOo6p"
      },
      "execution_count": 4,
      "outputs": []
    },
    {
      "cell_type": "markdown",
      "source": [
        "Método de Gauss com Pivoteamento Parcial\n",
        "Quando usar:\n",
        "\n",
        "Sistemas onde a estabilidade numérica é uma preocupação.\n",
        "\n",
        "Recomendado para evitar divisões por zero ou números muito pequenos."
      ],
      "metadata": {
        "id": "-gWWbDt0Ovjv"
      }
    },
    {
      "cell_type": "code",
      "source": [
        "def gauss_pivoteamento_parcial(A, b):\n",
        "    \"\"\"\n",
        "    Resolve o sistema Ax = b usando Eliminação de Gauss com Pivoteamento Parcial.\n",
        "    \"\"\"\n",
        "    A = A.astype(float)\n",
        "    b = b.astype(float)\n",
        "    n = len(b)\n",
        "\n",
        "    # Etapa de eliminação com pivoteamento\n",
        "    for k in range(n-1):\n",
        "        # Pivoteamento parcial\n",
        "        max_row = np.argmax(abs(A[k:, k])) + k\n",
        "        if A[max_row, k] == 0:\n",
        "            raise ValueError(\"Pivô zero encontrado.\")\n",
        "        if max_row != k:\n",
        "            A[[k, max_row]] = A[[max_row, k]]\n",
        "            b[[k, max_row]] = b[[max_row, k]]\n",
        "\n",
        "        for i in range(k+1, n):\n",
        "            m = A[i, k] / A[k, k]\n",
        "            A[i, k:] -= m * A[k, k:]\n",
        "            b[i] -= m * b[k]\n",
        "\n",
        "    # Substituição regressiva\n",
        "    x = np.zeros(n)\n",
        "    for i in range(n-1, -1, -1):\n",
        "        if A[i, i] == 0:\n",
        "            raise ValueError(\"Divisão por zero detectada.\")\n",
        "        x[i] = (b[i] - np.dot(A[i, i+1:], x[i+1:])) / A[i, i]\n",
        "    return x\n"
      ],
      "metadata": {
        "id": "M6rSIBSuOyLP"
      },
      "execution_count": 5,
      "outputs": []
    },
    {
      "cell_type": "markdown",
      "source": [
        "Método de Gauss-Jordan\n",
        "Quando usar:\n",
        "\n",
        "Quando se deseja obter a matriz inversa além da solução do sistema.\n",
        "\n",
        "Menos eficiente para sistemas grandes."
      ],
      "metadata": {
        "id": "3Un7j4q5O4Fj"
      }
    },
    {
      "cell_type": "code",
      "source": [
        "def gauss_jordan(A, b):\n",
        "    \"\"\"\n",
        "    Resolve o sistema Ax = b usando o Método de Gauss-Jordan.\n",
        "    \"\"\"\n",
        "    A = A.astype(float)\n",
        "    b = b.astype(float)\n",
        "    n = len(b)\n",
        "    M = np.hstack([A, b.reshape(-1,1)])\n",
        "\n",
        "    for i in range(n):\n",
        "        # Pivoteamento parcial\n",
        "        max_row = np.argmax(abs(M[i:, i])) + i\n",
        "        if M[max_row, i] == 0:\n",
        "            raise ValueError(\"Pivô zero encontrado.\")\n",
        "        if max_row != i:\n",
        "            M[[i, max_row]] = M[[max_row, i]]\n",
        "\n",
        "        # Normaliza a linha\n",
        "        M[i] = M[i] / M[i, i]\n",
        "\n",
        "        # Elimina as outras linhas\n",
        "        for j in range(n):\n",
        "            if j != i:\n",
        "                M[j] = M[j] - M[j, i] * M[i]\n",
        "\n",
        "    return M[:, -1]\n"
      ],
      "metadata": {
        "id": "ft187G20O5_L"
      },
      "execution_count": 6,
      "outputs": []
    },
    {
      "cell_type": "markdown",
      "source": [
        "Método de Decomposição LU\n",
        "Quando usar:\n",
        "\n",
        "Quando é necessário resolver o mesmo sistema com diferentes vetores b.\n",
        "\n",
        "Mais eficiente do que aplicar Eliminação de Gauss repetidamente."
      ],
      "metadata": {
        "id": "NYqQ_Pw3O9Ij"
      }
    },
    {
      "cell_type": "code",
      "source": [
        "def decomposicao_lu(A):\n",
        "    \"\"\"\n",
        "    Decompõe a matriz A em L e U tais que A = LU.\n",
        "    \"\"\"\n",
        "    A = A.astype(float)\n",
        "    n = A.shape[0]\n",
        "    L = np.eye(n)\n",
        "    U = A.copy()\n",
        "\n",
        "    for k in range(n-1):\n",
        "        if U[k, k] == 0:\n",
        "            raise ValueError(\"Pivô zero encontrado.\")\n",
        "        for i in range(k+1, n):\n",
        "            m = U[i, k] / U[k, k]\n",
        "            L[i, k] = m\n",
        "            U[i, k:] -= m * U[k, k:]\n",
        "    return L, U\n",
        "\n",
        "def resolver_lu(L, U, b):\n",
        "    \"\"\"\n",
        "    Resolve o sistema Ax = b usando as matrizes L e U.\n",
        "    \"\"\"\n",
        "    n = len(b)\n",
        "    y = np.zeros(n)\n",
        "    # Substituição progressiva\n",
        "    for i in range(n):\n",
        "        y[i] = b[i] - np.dot(L[i, :i], y[:i])\n",
        "    x = np.zeros(n)\n",
        "    # Substituição regressiva\n",
        "    for i in range(n-1, -1, -1):\n",
        "        if U[i, i] == 0:\n",
        "            raise ValueError(\"Divisão por zero detectada.\")\n",
        "        x[i] = (y[i] - np.dot(U[i, i+1:], x[i+1:])) / U[i, i]\n",
        "    return x\n"
      ],
      "metadata": {
        "id": "puBlEv2lO_XT"
      },
      "execution_count": 7,
      "outputs": []
    },
    {
      "cell_type": "markdown",
      "source": [
        "Método de Jacobi\n",
        "Quando usar:\n",
        "\n",
        "Sistemas diagonais dominantes.\n",
        "\n",
        "Quando se busca uma solução iterativa simples.\n",
        "\n",
        "Pode ser computacionalmente intensivo para sistemas grandes."
      ],
      "metadata": {
        "id": "QRiaZ2hIPBz7"
      }
    },
    {
      "cell_type": "code",
      "source": [
        "def jacobi(A, b, x0=None, tol=1e-10, max_iter=100):\n",
        "    \"\"\"\n",
        "    Resolve o sistema Ax = b usando o Método de Jacobi.\n",
        "    \"\"\"\n",
        "    A = A.astype(float)\n",
        "    b = b.astype(float)\n",
        "    n = len(b)\n",
        "    if x0 is None:\n",
        "        x0 = np.zeros(n)\n",
        "    x = x0.copy()\n",
        "\n",
        "    for k in range(max_iter):\n",
        "        x_new = np.zeros(n)\n",
        "        for i in range(n):\n",
        "            s = np.dot(A[i, :], x) - A[i, i]*x[i]\n",
        "            x_new[i] = (b[i] - s) / A[i, i]\n",
        "        if np.linalg.norm(x_new - x, np.inf) < tol:\n",
        "            return x_new\n",
        "        x = x_new\n",
        "    raise ValueError(\"Número máximo de iterações excedido.\")\n"
      ],
      "metadata": {
        "id": "wjSXQ7fcPDkz"
      },
      "execution_count": 8,
      "outputs": []
    },
    {
      "cell_type": "markdown",
      "source": [
        "Método de Gauss-Seidel\n",
        "Quando usar:\n",
        "\n",
        "Sistemas diagonais dominantes.\n",
        "\n",
        "Geralmente converge mais rápido que o método de Jacobi.\n",
        "\n",
        "Útil para sistemas grandes e esparsos."
      ],
      "metadata": {
        "id": "vusd-ncvPGLl"
      }
    },
    {
      "cell_type": "code",
      "source": [
        "def gauss_seidel(A, b, x0=None, tol=1e-10, max_iter=100):\n",
        "    \"\"\"\n",
        "    Resolve o sistema Ax = b usando o Método de Gauss-Seidel.\n",
        "    \"\"\"\n",
        "    A = A.astype(float)\n",
        "    b = b.astype(float)\n",
        "    n = len(b)\n",
        "    if x0 is None:\n",
        "        x0 = np.zeros(n)\n",
        "    x = x0.copy()\n",
        "\n",
        "    for k in range(max_iter):\n",
        "        x_new = x.copy()\n",
        "        for i in range(n):\n",
        "            s1 = np.dot(A[i, :i], x_new[:i])\n",
        "            s2 = np.dot(A[i, i+1:], x[i+1:])\n",
        "            x_new[i] = (b[i] - s1 - s2) / A[i, i]\n",
        "        if np.linalg.norm(x_new - x, np.inf) < tol:\n",
        "            return x_new\n",
        "        x = x_new\n",
        "    raise ValueError(\"Número máximo de iterações excedido.\")\n"
      ],
      "metadata": {
        "id": "sPDe5ERvPIe9"
      },
      "execution_count": 9,
      "outputs": []
    },
    {
      "cell_type": "markdown",
      "source": [
        "Exemplo de Uso"
      ],
      "metadata": {
        "id": "ibFf3qDzPJ5E"
      }
    },
    {
      "cell_type": "code",
      "source": [
        "# Definindo o sistema\n",
        "A = np.array([[4, -1, 0, 0],\n",
        "              [-1, 4, -1, 0],\n",
        "              [0, -1, 4, -1],\n",
        "              [0, 0, -1, 3]], dtype=float)\n",
        "b = np.array([15, 10, 10, 10], dtype=float)\n",
        "\n",
        "# Escolha o método desejado\n",
        "# x = eliminacao_gauss(A, b)\n",
        "# x = gauss_pivoteamento_parcial(A, b)\n",
        "# x = gauss_jordan(A, b)\n",
        "# L, U = decomposicao_lu(A)\n",
        "# x = resolver_lu(L, U, b)\n",
        "# x = jacobi(A, b)\n",
        "# x = gauss_seidel(A, b)\n",
        "\n",
        "# Exibindo a solução\n",
        "# print(\"Solução:\", x)\n"
      ],
      "metadata": {
        "id": "92HrisOvPMlv"
      },
      "execution_count": 10,
      "outputs": []
    },
    {
      "cell_type": "markdown",
      "source": [
        "Eliminação de Gauss: Útil para sistemas pequenos e quando não há preocupação em preservar a matriz original.\n",
        "\n",
        "Pivoteamento Parcial: Recomendado para evitar instabilidades numéricas.\n",
        "\n",
        "Gauss-Jordan: Permite obter a matriz inversa; menos eficiente para sistemas grandes.\n",
        "\n",
        "Decomposição LU: Ideal quando o mesmo sistema é resolvido para diferentes vetores b.\n",
        "\n",
        "Jacobi e Gauss-Seidel: Métodos iterativos; escolha sistemas diagonais dominantes para garantir convergência."
      ],
      "metadata": {
        "id": "Jj2-enfRPUVL"
      }
    },
    {
      "cell_type": "markdown",
      "source": [
        "EXEMPLO:\n",
        "  "
      ],
      "metadata": {
        "id": "S8ydhiegQToU"
      }
    },
    {
      "cell_type": "code",
      "source": [
        "import numpy as np\n",
        "\n",
        "A = np.array([[4, -1, 0, 0],\n",
        "              [-1, 4, -1, 0],\n",
        "              [0, -1, 4, -1],\n",
        "              [0, 0, -1, 3]], dtype=float)\n",
        "\n",
        "b = np.array([15, 10, 10, 10], dtype=float)\n"
      ],
      "metadata": {
        "id": "YTfG-Z54QVPl"
      },
      "execution_count": 11,
      "outputs": []
    },
    {
      "cell_type": "markdown",
      "source": [
        "ELIMINAÇÃO DE GAUSS:"
      ],
      "metadata": {
        "id": "wgyFKdI_QYGl"
      }
    },
    {
      "cell_type": "code",
      "source": [
        "def eliminacao_gauss(A, b):\n",
        "    A = A.astype(float)\n",
        "    b = b.astype(float)\n",
        "    n = len(b)\n",
        "    for k in range(n-1):\n",
        "        for i in range(k+1, n):\n",
        "            m = A[i, k] / A[k, k]\n",
        "            A[i, k:] -= m * A[k, k:]\n",
        "            b[i] -= m * b[k]\n",
        "    x = np.zeros(n)\n",
        "    for i in range(n-1, -1, -1):\n",
        "        x[i] = (b[i] - np.dot(A[i, i+1:], x[i+1:])) / A[i, i]\n",
        "    return x\n",
        "\n",
        "eliminacao_gauss(A.copy(), b.copy())\n"
      ],
      "metadata": {
        "colab": {
          "base_uri": "https://localhost:8080/"
        },
        "id": "45pDX7FhQaJ1",
        "outputId": "4ee6b428-c0fa-4c98-be54-c418e070d3ce"
      },
      "execution_count": 12,
      "outputs": [
        {
          "output_type": "execute_result",
          "data": {
            "text/plain": [
              "array([5., 5., 5., 5.])"
            ]
          },
          "metadata": {},
          "execution_count": 12
        }
      ]
    },
    {
      "cell_type": "markdown",
      "source": [
        "GAUSS COM PIVOTEAMENTO PARCIAL"
      ],
      "metadata": {
        "id": "QmXdC14yQbwU"
      }
    },
    {
      "cell_type": "code",
      "source": [
        "def gauss_pivoteamento_parcial(A, b):\n",
        "    A = A.astype(float)\n",
        "    b = b.astype(float)\n",
        "    n = len(b)\n",
        "    for k in range(n-1):\n",
        "        max_row = np.argmax(abs(A[k:, k])) + k\n",
        "        A[[k, max_row]] = A[[max_row, k]]\n",
        "        b[[k, max_row]] = b[[max_row, k]]\n",
        "        for i in range(k+1, n):\n",
        "            m = A[i, k] / A[k, k]\n",
        "            A[i, k:] -= m * A[k, k:]\n",
        "            b[i] -= m * b[k]\n",
        "    x = np.zeros(n)\n",
        "    for i in range(n-1, -1, -1):\n",
        "        x[i] = (b[i] - np.dot(A[i, i+1:], x[i+1:])) / A[i, i]\n",
        "    return x\n",
        "\n",
        "gauss_pivoteamento_parcial(A.copy(), b.copy())\n"
      ],
      "metadata": {
        "colab": {
          "base_uri": "https://localhost:8080/"
        },
        "id": "vtCd-7IjQd0l",
        "outputId": "51466e77-b138-4c83-9f66-54c81c34beec"
      },
      "execution_count": 13,
      "outputs": [
        {
          "output_type": "execute_result",
          "data": {
            "text/plain": [
              "array([5., 5., 5., 5.])"
            ]
          },
          "metadata": {},
          "execution_count": 13
        }
      ]
    },
    {
      "cell_type": "markdown",
      "source": [
        "GAUSS-JORDAN"
      ],
      "metadata": {
        "id": "_cUjQqLOQha-"
      }
    },
    {
      "cell_type": "code",
      "source": [
        "def gauss_jordan(A, b):\n",
        "    A = A.astype(float)\n",
        "    b = b.astype(float)\n",
        "    n = len(b)\n",
        "    M = np.hstack([A, b.reshape(-1,1)])\n",
        "    for i in range(n):\n",
        "        max_row = np.argmax(abs(M[i:, i])) + i\n",
        "        M[[i, max_row]] = M[[max_row, i]]\n",
        "        M[i] = M[i] / M[i, i]\n",
        "        for j in range(n):\n",
        "            if j != i:\n",
        "                M[j] -= M[j, i] * M[i]\n",
        "    return M[:, -1]\n",
        "\n",
        "gauss_jordan(A.copy(), b.copy())\n"
      ],
      "metadata": {
        "colab": {
          "base_uri": "https://localhost:8080/"
        },
        "id": "5rj9NDCgQjPe",
        "outputId": "49606442-2054-479b-949f-047ea973afb6"
      },
      "execution_count": 14,
      "outputs": [
        {
          "output_type": "execute_result",
          "data": {
            "text/plain": [
              "array([5., 5., 5., 5.])"
            ]
          },
          "metadata": {},
          "execution_count": 14
        }
      ]
    },
    {
      "cell_type": "markdown",
      "source": [
        "DECOMPOSIÇÃO LU"
      ],
      "metadata": {
        "id": "TBYwFctFQk3G"
      }
    },
    {
      "cell_type": "code",
      "source": [
        "def decomposicao_lu(A):\n",
        "    A = A.astype(float)\n",
        "    n = A.shape[0]\n",
        "    L = np.eye(n)\n",
        "    U = A.copy()\n",
        "    for k in range(n-1):\n",
        "        for i in range(k+1, n):\n",
        "            m = U[i, k] / U[k, k]\n",
        "            L[i, k] = m\n",
        "            U[i, k:] -= m * U[k, k:]\n",
        "    return L, U\n",
        "\n",
        "def resolver_lu(L, U, b):\n",
        "    n = len(b)\n",
        "    y = np.zeros(n)\n",
        "    for i in range(n):\n",
        "        y[i] = b[i] - np.dot(L[i, :i], y[:i])\n",
        "    x = np.zeros(n)\n",
        "    for i in range(n-1, -1, -1):\n",
        "        x[i] = (y[i] - np.dot(U[i, i+1:], x[i+1:])) / U[i, i]\n",
        "    return x\n",
        "\n",
        "L, U = decomposicao_lu(A.copy())\n",
        "resolver_lu(L, U, b.copy())\n"
      ],
      "metadata": {
        "colab": {
          "base_uri": "https://localhost:8080/"
        },
        "id": "wmtN91cuQm3F",
        "outputId": "4d625e58-d453-4606-be9e-c3d8aecf7d31"
      },
      "execution_count": 15,
      "outputs": [
        {
          "output_type": "execute_result",
          "data": {
            "text/plain": [
              "array([5., 5., 5., 5.])"
            ]
          },
          "metadata": {},
          "execution_count": 15
        }
      ]
    },
    {
      "cell_type": "markdown",
      "source": [
        "MÉTODO DE JACOBI"
      ],
      "metadata": {
        "id": "zLtZtoExQovW"
      }
    },
    {
      "cell_type": "code",
      "source": [
        "def jacobi(A, b, x0=None, tol=1e-10, max_iter=100):\n",
        "    A = A.astype(float)\n",
        "    b = b.astype(float)\n",
        "    n = len(b)\n",
        "    if x0 is None:\n",
        "        x0 = np.zeros(n)\n",
        "    x = x0.copy()\n",
        "    for _ in range(max_iter):\n",
        "        x_new = np.zeros(n)\n",
        "        for i in range(n):\n",
        "            s = np.dot(A[i, :], x) - A[i, i]*x[i]\n",
        "            x_new[i] = (b[i] - s) / A[i, i]\n",
        "        if np.linalg.norm(x_new - x, np.inf) < tol:\n",
        "            return x_new\n",
        "        x = x_new\n",
        "    raise ValueError(\"Número máximo de iterações excedido.\")\n",
        "\n",
        "jacobi(A.copy(), b.copy())\n"
      ],
      "metadata": {
        "colab": {
          "base_uri": "https://localhost:8080/"
        },
        "id": "XlYQDkUXQq1G",
        "outputId": "6717db98-fee2-4a6c-a8b0-3c275c6cfb06"
      },
      "execution_count": 16,
      "outputs": [
        {
          "output_type": "execute_result",
          "data": {
            "text/plain": [
              "array([5., 5., 5., 5.])"
            ]
          },
          "metadata": {},
          "execution_count": 16
        }
      ]
    },
    {
      "cell_type": "markdown",
      "source": [
        "Método de Gauss-Seidel"
      ],
      "metadata": {
        "id": "bOg4PXldQsgm"
      }
    },
    {
      "cell_type": "code",
      "source": [
        "def gauss_seidel(A, b, x0=None, tol=1e-10, max_iter=100):\n",
        "    A = A.astype(float)\n",
        "    b = b.astype(float)\n",
        "    n = len(b)\n",
        "    if x0 is None:\n",
        "        x0 = np.zeros(n)\n",
        "    x = x0.copy()\n",
        "    for _ in range(max_iter):\n",
        "        x_new = x.copy()\n",
        "        for i in range(n):\n",
        "            s1 = np.dot(A[i, :i], x_new[:i])\n",
        "            s2 = np.dot(A[i, i+1:], x[i+1:])\n",
        "            x_new[i] = (b[i] - s1 - s2) / A[i, i]\n",
        "        if np.linalg.norm(x_new - x, np.inf) < tol:\n",
        "            return x_new\n",
        "        x = x_new\n",
        "    raise ValueError(\"Número máximo de iterações excedido.\")\n",
        "\n",
        "gauss_seidel(A.copy(), b.copy())\n"
      ],
      "metadata": {
        "colab": {
          "base_uri": "https://localhost:8080/"
        },
        "id": "NkL1RKciQurO",
        "outputId": "f5ced5b7-f2d6-4607-e66a-34c916d6f337"
      },
      "execution_count": 17,
      "outputs": [
        {
          "output_type": "execute_result",
          "data": {
            "text/plain": [
              "array([5., 5., 5., 5.])"
            ]
          },
          "metadata": {},
          "execution_count": 17
        }
      ]
    },
    {
      "cell_type": "code",
      "source": [
        "!pip install tabulate\n",
        "\n",
        "from tabulate import tabulate\n",
        "\n",
        "# Dados do resumo\n",
        "tabela_resumo = [\n",
        "    [\"Eliminação de Gauss\", \"Direto\", \"Sistema pequeno/médio. Simples, rápido, sem necessidade de múltiplos b.\"],\n",
        "    [\"Gauss com Pivoteamento\", \"Direto\", \"Quando há risco de instabilidade (divisão por número pequeno).\"],\n",
        "    [\"Gauss-Jordan\", \"Direto\", \"Quando se quer a inversa de A ou manipulação algébrica total.\"],\n",
        "    [\"Decomposição LU\", \"Direto\", \"Ideal para reutilizar A com vários vetores b (eficiente).\"],\n",
        "    [\"Jacobi\", \"Iterativo\", \"Quando A é diagonal dominante. Fácil, mas lento para convergir.\"],\n",
        "    [\"Gauss-Seidel\", \"Iterativo\", \"Mais rápido que Jacobi. Também exige diagonal dominante ou SPD.\"]\n",
        "]\n",
        "\n",
        "# Cabeçalho\n",
        "cabecalho = [\"Método\", \"Tipo\", \"Quando Usar\"]\n",
        "\n",
        "# Impressão formatada\n",
        "print(\"\\n📘 RESUMO DOS MÉTODOS DE RESOLUÇÃO DE SISTEMAS LINEARES\\n\")\n",
        "print(tabulate(tabela_resumo, headers=cabecalho, tablefmt=\"fancy_grid\"))\n",
        "\n",
        "# Informação adicional\n",
        "print(\"\\nℹ️ Uma matriz A é diagonal dominante se, para cada linha i:\")\n",
        "print(\"   |a_ii| > soma dos |a_ij| com j ≠ i\\n\")\n",
        "print(\"✅ Isso garante convergência para Jacobi e Gauss-Seidel.\\n\")\n"
      ],
      "metadata": {
        "colab": {
          "base_uri": "https://localhost:8080/"
        },
        "id": "6z5u52uXRM-a",
        "outputId": "dba01132-ac6e-4587-994b-40a4e75a2d14"
      },
      "execution_count": 19,
      "outputs": [
        {
          "output_type": "stream",
          "name": "stdout",
          "text": [
            "Requirement already satisfied: tabulate in /usr/local/lib/python3.11/dist-packages (0.9.0)\n",
            "\n",
            "📘 RESUMO DOS MÉTODOS DE RESOLUÇÃO DE SISTEMAS LINEARES\n",
            "\n",
            "╒════════════════════════╤═══════════╤═════════════════════════════════════════════════════════════════════════╕\n",
            "│ Método                 │ Tipo      │ Quando Usar                                                             │\n",
            "╞════════════════════════╪═══════════╪═════════════════════════════════════════════════════════════════════════╡\n",
            "│ Eliminação de Gauss    │ Direto    │ Sistema pequeno/médio. Simples, rápido, sem necessidade de múltiplos b. │\n",
            "├────────────────────────┼───────────┼─────────────────────────────────────────────────────────────────────────┤\n",
            "│ Gauss com Pivoteamento │ Direto    │ Quando há risco de instabilidade (divisão por número pequeno).          │\n",
            "├────────────────────────┼───────────┼─────────────────────────────────────────────────────────────────────────┤\n",
            "│ Gauss-Jordan           │ Direto    │ Quando se quer a inversa de A ou manipulação algébrica total.           │\n",
            "├────────────────────────┼───────────┼─────────────────────────────────────────────────────────────────────────┤\n",
            "│ Decomposição LU        │ Direto    │ Ideal para reutilizar A com vários vetores b (eficiente).               │\n",
            "├────────────────────────┼───────────┼─────────────────────────────────────────────────────────────────────────┤\n",
            "│ Jacobi                 │ Iterativo │ Quando A é diagonal dominante. Fácil, mas lento para convergir.         │\n",
            "├────────────────────────┼───────────┼─────────────────────────────────────────────────────────────────────────┤\n",
            "│ Gauss-Seidel           │ Iterativo │ Mais rápido que Jacobi. Também exige diagonal dominante ou SPD.         │\n",
            "╘════════════════════════╧═══════════╧═════════════════════════════════════════════════════════════════════════╛\n",
            "\n",
            "ℹ️ Uma matriz A é diagonal dominante se, para cada linha i:\n",
            "   |a_ii| > soma dos |a_ij| com j ≠ i\n",
            "\n",
            "✅ Isso garante convergência para Jacobi e Gauss-Seidel.\n",
            "\n"
          ]
        }
      ]
    }
  ]
}